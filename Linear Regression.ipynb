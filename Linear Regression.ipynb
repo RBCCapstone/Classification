{
 "cells": [
  {
   "cell_type": "code",
   "execution_count": 29,
   "metadata": {},
   "outputs": [
    {
     "data": {
      "text/html": [
       "<div>\n",
       "<style scoped>\n",
       "    .dataframe tbody tr th:only-of-type {\n",
       "        vertical-align: middle;\n",
       "    }\n",
       "\n",
       "    .dataframe tbody tr th {\n",
       "        vertical-align: top;\n",
       "    }\n",
       "\n",
       "    .dataframe thead th {\n",
       "        text-align: right;\n",
       "    }\n",
       "</style>\n",
       "<table border=\"1\" class=\"dataframe\">\n",
       "  <thead>\n",
       "    <tr style=\"text-align: right;\">\n",
       "      <th></th>\n",
       "      <th>jade date</th>\n",
       "      <th>y-val</th>\n",
       "    </tr>\n",
       "  </thead>\n",
       "  <tbody>\n",
       "    <tr>\n",
       "      <th>0</th>\n",
       "      <td>43276</td>\n",
       "      <td>16.036820</td>\n",
       "    </tr>\n",
       "    <tr>\n",
       "      <th>1</th>\n",
       "      <td>43277</td>\n",
       "      <td>11.399772</td>\n",
       "    </tr>\n",
       "    <tr>\n",
       "      <th>2</th>\n",
       "      <td>43278</td>\n",
       "      <td>10.377035</td>\n",
       "    </tr>\n",
       "    <tr>\n",
       "      <th>3</th>\n",
       "      <td>43279</td>\n",
       "      <td>10.337987</td>\n",
       "    </tr>\n",
       "    <tr>\n",
       "      <th>4</th>\n",
       "      <td>43280</td>\n",
       "      <td>11.928215</td>\n",
       "    </tr>\n",
       "  </tbody>\n",
       "</table>\n",
       "</div>"
      ],
      "text/plain": [
       "   jade date      y-val\n",
       "0      43276  16.036820\n",
       "1      43277  11.399772\n",
       "2      43278  10.377035\n",
       "3      43279  10.337987\n",
       "4      43280  11.928215"
      ]
     },
     "execution_count": 29,
     "metadata": {},
     "output_type": "execute_result"
    }
   ],
   "source": [
    "\"\"\"\n",
    "Created on Wed Oct  3 14:47:19 2018\n",
    "\n",
    "@author: Jessie\n",
    "\"\"\"\n",
    "%matplotlib inline\n",
    "from __future__ import print_function\n",
    "import pandas as pd\n",
    "import numpy as np\n",
    "import scipy.stats as stats\n",
    "import sklearn\n",
    "#import statsmodels.api as sm\n",
    "#import statsmodels.formula.api as smf\n",
    "#import statsmodels.stats.api as sms\n",
    "import matplotlib.pyplot as plt\n",
    "from IPython.display import Image\n",
    "\n",
    "trainx = pd.read_csv(\"/Users/Legendary/Documents/GitHub/DataCollection/Data/LR Data/train-x.csv\")\n",
    "trainy = pd.read_csv(\"/Users/Legendary/Documents/GitHub/DataCollection/Data/LR Data/train-y.csv\")\n",
    "testx = pd.read_csv(\"/Users/Legendary/Documents/GitHub/DataCollection/Data/LR Data/test-x.csv\")\n",
    "testy = pd.read_csv(\"/Users/Legendary/Documents/GitHub/DataCollection/Data/LR Data/test-y.csv\")\n",
    "\n",
    "testy.head()\n",
    "\n"
   ]
  },
  {
   "cell_type": "code",
   "execution_count": 30,
   "metadata": {},
   "outputs": [
    {
     "data": {
      "text/html": [
       "<div>\n",
       "<style scoped>\n",
       "    .dataframe tbody tr th:only-of-type {\n",
       "        vertical-align: middle;\n",
       "    }\n",
       "\n",
       "    .dataframe tbody tr th {\n",
       "        vertical-align: top;\n",
       "    }\n",
       "\n",
       "    .dataframe thead th {\n",
       "        text-align: right;\n",
       "    }\n",
       "</style>\n",
       "<table border=\"1\" class=\"dataframe\">\n",
       "  <thead>\n",
       "    <tr style=\"text-align: right;\">\n",
       "      <th></th>\n",
       "      <th>Date</th>\n",
       "      <th>sales</th>\n",
       "      <th>walmart</th>\n",
       "      <th>amazon</th>\n",
       "      <th>store</th>\n",
       "      <th>stores</th>\n",
       "      <th>retail</th>\n",
       "      <th>brands</th>\n",
       "      <th>retailer</th>\n",
       "      <th>earnings</th>\n",
       "      <th>...</th>\n",
       "      <th>penney</th>\n",
       "      <th>june</th>\n",
       "      <th>expects</th>\n",
       "      <th>consumers</th>\n",
       "      <th>reported</th>\n",
       "      <th>technology</th>\n",
       "      <th>wall</th>\n",
       "      <th>farms</th>\n",
       "      <th>cramer</th>\n",
       "      <th>dunkin</th>\n",
       "    </tr>\n",
       "  </thead>\n",
       "  <tbody>\n",
       "    <tr>\n",
       "      <th>0</th>\n",
       "      <td>43276</td>\n",
       "      <td>1</td>\n",
       "      <td>0</td>\n",
       "      <td>0</td>\n",
       "      <td>0</td>\n",
       "      <td>1</td>\n",
       "      <td>0</td>\n",
       "      <td>1</td>\n",
       "      <td>0</td>\n",
       "      <td>0</td>\n",
       "      <td>...</td>\n",
       "      <td>0</td>\n",
       "      <td>12</td>\n",
       "      <td>1</td>\n",
       "      <td>1</td>\n",
       "      <td>2</td>\n",
       "      <td>12</td>\n",
       "      <td>3</td>\n",
       "      <td>0</td>\n",
       "      <td>0</td>\n",
       "      <td>0</td>\n",
       "    </tr>\n",
       "    <tr>\n",
       "      <th>1</th>\n",
       "      <td>43277</td>\n",
       "      <td>10</td>\n",
       "      <td>0</td>\n",
       "      <td>1</td>\n",
       "      <td>2</td>\n",
       "      <td>0</td>\n",
       "      <td>1</td>\n",
       "      <td>0</td>\n",
       "      <td>0</td>\n",
       "      <td>0</td>\n",
       "      <td>...</td>\n",
       "      <td>0</td>\n",
       "      <td>7</td>\n",
       "      <td>2</td>\n",
       "      <td>0</td>\n",
       "      <td>0</td>\n",
       "      <td>2</td>\n",
       "      <td>0</td>\n",
       "      <td>0</td>\n",
       "      <td>0</td>\n",
       "      <td>0</td>\n",
       "    </tr>\n",
       "    <tr>\n",
       "      <th>2</th>\n",
       "      <td>43278</td>\n",
       "      <td>3</td>\n",
       "      <td>0</td>\n",
       "      <td>0</td>\n",
       "      <td>0</td>\n",
       "      <td>0</td>\n",
       "      <td>0</td>\n",
       "      <td>0</td>\n",
       "      <td>0</td>\n",
       "      <td>0</td>\n",
       "      <td>...</td>\n",
       "      <td>0</td>\n",
       "      <td>0</td>\n",
       "      <td>0</td>\n",
       "      <td>3</td>\n",
       "      <td>0</td>\n",
       "      <td>0</td>\n",
       "      <td>2</td>\n",
       "      <td>0</td>\n",
       "      <td>0</td>\n",
       "      <td>0</td>\n",
       "    </tr>\n",
       "    <tr>\n",
       "      <th>3</th>\n",
       "      <td>43279</td>\n",
       "      <td>15</td>\n",
       "      <td>1</td>\n",
       "      <td>11</td>\n",
       "      <td>0</td>\n",
       "      <td>0</td>\n",
       "      <td>2</td>\n",
       "      <td>3</td>\n",
       "      <td>0</td>\n",
       "      <td>0</td>\n",
       "      <td>...</td>\n",
       "      <td>0</td>\n",
       "      <td>3</td>\n",
       "      <td>2</td>\n",
       "      <td>2</td>\n",
       "      <td>4</td>\n",
       "      <td>2</td>\n",
       "      <td>3</td>\n",
       "      <td>0</td>\n",
       "      <td>0</td>\n",
       "      <td>0</td>\n",
       "    </tr>\n",
       "    <tr>\n",
       "      <th>4</th>\n",
       "      <td>43280</td>\n",
       "      <td>3</td>\n",
       "      <td>0</td>\n",
       "      <td>0</td>\n",
       "      <td>0</td>\n",
       "      <td>0</td>\n",
       "      <td>0</td>\n",
       "      <td>0</td>\n",
       "      <td>0</td>\n",
       "      <td>4</td>\n",
       "      <td>...</td>\n",
       "      <td>0</td>\n",
       "      <td>7</td>\n",
       "      <td>1</td>\n",
       "      <td>1</td>\n",
       "      <td>1</td>\n",
       "      <td>0</td>\n",
       "      <td>2</td>\n",
       "      <td>0</td>\n",
       "      <td>0</td>\n",
       "      <td>0</td>\n",
       "    </tr>\n",
       "  </tbody>\n",
       "</table>\n",
       "<p>5 rows × 101 columns</p>\n",
       "</div>"
      ],
      "text/plain": [
       "    Date  sales  walmart  amazon  store  stores  retail  brands  retailer  \\\n",
       "0  43276      1        0       0      0       1       0       1         0   \n",
       "1  43277     10        0       1      2       0       1       0         0   \n",
       "2  43278      3        0       0      0       0       0       0         0   \n",
       "3  43279     15        1      11      0       0       2       3         0   \n",
       "4  43280      3        0       0      0       0       0       0         0   \n",
       "\n",
       "   earnings   ...    penney  june  expects  consumers  reported  technology  \\\n",
       "0         0   ...         0    12        1          1         2          12   \n",
       "1         0   ...         0     7        2          0         0           2   \n",
       "2         0   ...         0     0        0          3         0           0   \n",
       "3         0   ...         0     3        2          2         4           2   \n",
       "4         4   ...         0     7        1          1         1           0   \n",
       "\n",
       "   wall  farms  cramer  dunkin  \n",
       "0     3      0       0       0  \n",
       "1     0      0       0       0  \n",
       "2     2      0       0       0  \n",
       "3     3      0       0       0  \n",
       "4     2      0       0       0  \n",
       "\n",
       "[5 rows x 101 columns]"
      ]
     },
     "execution_count": 30,
     "metadata": {},
     "output_type": "execute_result"
    }
   ],
   "source": [
    "#Import Lin reg from sci=kit module\n",
    "from sklearn.linear_model import LinearRegression\n",
    "#drop date from the independent variables\n",
    "Y_Train = trainy.drop('Date', axis =1)\n",
    "X_Train = trainx.drop('dummy-y-val', axis=1)\n",
    "Y_Test  = testy.drop('jade date',axis =1)\n",
    "X_Test = testx.drop('dummy-y-val', axis=1)\n",
    "\n",
    "X_Test.head()\n",
    "#Y_Test.head()\n",
    "#X_Train.head()\n",
    "#Y_Train.head()\n",
    "#pred_test = lm.predict(testx)\n"
   ]
  },
  {
   "cell_type": "code",
   "execution_count": 31,
   "metadata": {},
   "outputs": [
    {
     "name": "stdout",
     "output_type": "stream",
     "text": [
      "[[12.21961581]\n",
      " [11.40657003]\n",
      " [11.10485269]\n",
      " [11.27574925]\n",
      " [10.22957877]]\n"
     ]
    },
    {
     "data": {
      "text/plain": [
       "1.0"
      ]
     },
     "execution_count": 31,
     "metadata": {},
     "output_type": "execute_result"
    }
   ],
   "source": [
    "#Testing with dummy-y-variable\n",
    "lm = LinearRegression()\n",
    "lm.fit(trainx, Y_Train)\n",
    "pred_train = lm.predict(trainx)\n",
    "lm.coef_\n",
    "print(pred_train[0:5]) #print first 5 predictions\n",
    "lm.score(trainx,Y_Train) #r2 value "
   ]
  },
  {
   "cell_type": "code",
   "execution_count": 32,
   "metadata": {},
   "outputs": [
    {
     "name": "stdout",
     "output_type": "stream",
     "text": [
      "[[12.50124111]\n",
      " [ 9.93012942]\n",
      " [11.96879484]\n",
      " [13.63223537]\n",
      " [10.13784641]]\n"
     ]
    },
    {
     "data": {
      "text/plain": [
       "0.5908185422545946"
      ]
     },
     "execution_count": 32,
     "metadata": {},
     "output_type": "execute_result"
    }
   ],
   "source": [
    "#Predicting on Training Set only\n",
    "lm2 = LinearRegression()\n",
    "lm2.fit(X_Train,Y_Train)\n",
    "pred_train = lm2.predict(X_Train)\n",
    "lm2.coef_\n",
    "print(pred_train[0:5]) #print first 5 predictions\n",
    "lm2.score(X_Train,Y_Train) #r2 value "
   ]
  },
  {
   "cell_type": "code",
   "execution_count": 33,
   "metadata": {},
   "outputs": [
    {
     "name": "stdout",
     "output_type": "stream",
     "text": [
      "(155, 101)\n",
      "(68, 101)\n",
      "(155, 1)\n",
      "(68, 1)\n"
     ]
    }
   ],
   "source": [
    "#Double check size\n",
    "print (X_Train.shape)\n",
    "print (X_Test.shape)\n",
    "print (Y_Train.shape)\n",
    "print (Y_Test.shape)"
   ]
  },
  {
   "cell_type": "code",
   "execution_count": 34,
   "metadata": {},
   "outputs": [
    {
     "name": "stdout",
     "output_type": "stream",
     "text": [
      "[[ 8.73746082]\n",
      " [ 7.30979978]\n",
      " [12.34363721]\n",
      " [ 9.2585807 ]\n",
      " [ 7.91484667]]\n"
     ]
    },
    {
     "data": {
      "text/plain": [
       "-2.5744713237298016"
      ]
     },
     "execution_count": 34,
     "metadata": {},
     "output_type": "execute_result"
    }
   ],
   "source": [
    "#Train-Test split\n",
    "lm3 = LinearRegression()\n",
    "lm3.fit(X_Train, Y_Train)\n",
    "pred_train = lm3.predict(X_Train)\n",
    "pred_test = lm3.predict(X_Test)\n",
    "lm3.coef_\n",
    "print(pred_test[0:5]) #print first 5 predictions\n",
    "#lm3.score(X_Train,Y_Train) #r2 value \n",
    "lm3.score(X_Test,Y_Test)"
   ]
  },
  {
   "cell_type": "code",
   "execution_count": 35,
   "metadata": {},
   "outputs": [
    {
     "name": "stdout",
     "output_type": "stream",
     "text": [
      "Fit a model X_train, and calculate MSE and R2 with Y_train: y-val    8.385785\n",
      "dtype: float64 0.5908185422545946\n",
      "Fit a model X_train, and calculate MSE and R2 with X_test, Y_test: y-val    51.892047\n",
      "dtype: float64 -2.5744713237298016\n"
     ]
    }
   ],
   "source": [
    "#Error Values\n",
    "MSEtrain = np.mean((Y_Train - lm2.predict(X_Train)) ** 2)\n",
    "MSEtesttrain = np.mean((Y_Test - lm3.predict(X_Test)) **2)\n",
    "print ('Fit a model X_train, and calculate MSE and R2 with Y_train:',MSEtrain, lm2.score(X_Train,Y_Train)) #r2 value  )\n",
    "print ('Fit a model X_train, and calculate MSE and R2 with X_test, Y_test:', MSEtesttrain, lm3.score(X_Test,Y_Test))"
   ]
  },
  {
   "cell_type": "code",
   "execution_count": 40,
   "metadata": {},
   "outputs": [
    {
     "data": {
      "text/plain": [
       "Text(0.5,0,'Y predictions')"
      ]
     },
     "execution_count": 40,
     "metadata": {},
     "output_type": "execute_result"
    },
    {
     "data": {
      "image/png": "[encoded data removed]",
      "text/plain": [
       "<Figure size 432x288 with 1 Axes>"
      ]
     },
     "metadata": {},
     "output_type": "display_data"
    }
   ],
   "source": [
    "#Residual plots\n",
    "plt.scatter(lm.predict(trainx), lm.predict(trainx) - Y_Train, c='r', s=40, alpha = 0.5)\n",
    "plt.scatter(lm2.predict(X_Train), lm2.predict(X_Train) - Y_Train, c='b', s=40, alpha=0.8)\n",
    "plt.scatter(lm3.predict(X_Test), lm3.predict(X_Test) - Y_Test, c='g', s=40)\n",
    "plt.hlines(y=0, xmin=0, xmax=30)\n",
    "plt.title('Residual Plot using dummy (red) training (blue) and test (green) data')\n",
    "plt.ylabel('Residuals')\n",
    "plt.xlabel('Y predictions')"
   ]
  },
  {
   "cell_type": "code",
   "execution_count": null,
   "metadata": {},
   "outputs": [],
   "source": [
    "#ignore for now\n",
    "print ('Estimated intercept coeff:', lm.intercept_)\n",
    "print ('Numer of coeff:', len(lm.coef_))"
   ]
  },
  {
   "cell_type": "code",
   "execution_count": null,
   "metadata": {},
   "outputs": [],
   "source": []
  },
  {
   "cell_type": "code",
   "execution_count": null,
   "metadata": {},
   "outputs": [],
   "source": [
    "#ignore for now\n",
    "pd.DataFrame(list(zip(trainx.columns,lm.coef_)), columns = ['features','estimatedCoefficients'])"
   ]
  },
  {
   "cell_type": "code",
   "execution_count": null,
   "metadata": {},
   "outputs": [],
   "source": []
  }
 ],
 "metadata": {
  "kernelspec": {
   "display_name": "Python 3",
   "language": "python",
   "name": "python3"
  },
  "language_info": {
   "codemirror_mode": {
    "name": "ipython",
    "version": 3
   },
   "file_extension": ".py",
   "mimetype": "text/x-python",
   "name": "python",
   "nbconvert_exporter": "python",
   "pygments_lexer": "ipython3",
   "version": "3.6.5"
  }
 },
 "nbformat": 4,
 "nbformat_minor": 2
}
