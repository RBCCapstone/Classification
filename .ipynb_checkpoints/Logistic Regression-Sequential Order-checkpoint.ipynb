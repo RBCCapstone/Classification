{
 "cells": [
  {
   "cell_type": "code",
   "execution_count": 110,
   "metadata": {},
   "outputs": [],
   "source": [
    "\"\"\"\n",
    "Created on Wed Oct  3 14:47:19 2018\n",
    "\n",
    "@author: Jessie\n",
    "\"\"\"\n",
    "%matplotlib inline\n",
    "from __future__ import print_function\n",
    "import pandas as pd\n",
    "import numpy as np\n",
    "import scipy.stats as stats\n",
    "import sklearn\n",
    "import random\n",
    "import os\n",
    "from sklearn.linear_model import *\n",
    "import matplotlib.pyplot as plt\n",
    "from IPython.display import Image\n",
    "from sklearn.model_selection import train_test_split\n",
    "from sklearn.metrics import average_precision_score, accuracy_score, precision_score, recall_score, f1_score, confusion_matrix, classification_report \n",
    "#import statsmodels.api as sm\n",
    "#import statsmodels.formula.api as smf\n",
    "#import statsmodels.stats.api as sms"
   ]
  },
  {
   "cell_type": "code",
   "execution_count": 46,
   "metadata": {},
   "outputs": [],
   "source": [
    "#import numpy array\n",
    "def LoadSplitData(split):\n",
    "    DATA_DIR = \"Data\"\n",
    "    ENCODING_DIR = os.path.join(DATA_DIR, \"binEncoding.csv\")\n",
    "   \n",
    "    data_xy = pd.read_csv(ENCODING_DIR)\n",
    "    data_xy = data_xy.drop(columns= ['Unnamed: 0'])\n",
    "\n",
    "    #drop the target variables you do not need (1-7), market moving or not ratings\n",
    "    colsxy= [0,1,2,4,5,6] #needs change\n",
    "    data_xy = data_xy.drop(data_xy.columns[colsxy],axis=1)\n",
    "    \n",
    "    cols =[0,1,2,3,4,5,6]\n",
    "    X = data_xy.drop(data_xy.columns[cols],axis=1)\n",
    "    y = data_xy.iloc[:,3] #needs change\n",
    "    \n",
    "    \n",
    "    #Get dummy test/train set \n",
    "    DummyX_train, DummyX_test, Dummyy_train, Dummyy_test = train_test_split(data_xy, y, test_size=split, random_state=42)\n",
    "    \n",
    "    return X, y, DummyX_train, DummyX_test, Dummyy_train, Dummyy_test, data_xy\n",
    "    \n"
   ]
  },
  {
   "cell_type": "code",
   "execution_count": 47,
   "metadata": {},
   "outputs": [],
   "source": [
    "X, y, DummyX_train, DummyX_test, Dummyy_train, Dummyy_test, data_xy = LoadSplitData(0.30) #Decide the test size (% of total data)"
   ]
  },
  {
   "cell_type": "code",
   "execution_count": 113,
   "metadata": {},
   "outputs": [],
   "source": [
    "#Use Logistic Regression - Testing with dummy-y-variable\n",
    "def SingleTest(X_train, y_train, X_test, y_test):\n",
    "    #define classifier\n",
    "    logReg = LogisticRegression(penalty='l2', dual=False, tol=0.0001, C=1.0, fit_intercept=True, random_state=0, solver='liblinear')\n",
    "\n",
    "    #Test \n",
    "    clfSingleTest = logReg.fit(X_train, y_train)\n",
    "\n",
    "    # predict on train and test set\n",
    "    y_train_predict = clfSingleTest.predict(X_train)\n",
    "    y_test_predict = clfSingleTest.predict(X_test)\n",
    "\n",
    "    #Binary metrics\n",
    "    columns = ['Precision','Recall', 'F1', 'Avg Precision', 'Accuracy']\n",
    "    df = pd.DataFrame(index=['Train','Test'], columns=columns)\n",
    "    \n",
    "    \n",
    "    TrainPrecision = precision_score(y_train, y_train_predict)\n",
    "    TestPrecision = precision_score(y_test, y_test_predict)\n",
    "    \n",
    "    TrainRecall = accuracy_score(y_train, y_train_predict)\n",
    "    TestRecall = accuracy_score(y_test, y_test_predict)\n",
    "    \n",
    "    Trainf1 = f1_score(y_train, y_train_predict, average='binary')\n",
    "    Testf1 = f1_score(y_test, y_test_predict, average='binary')\n",
    "    \n",
    "    #Not to be confused with the ranking metric, mAP (mean average precision), this is simply the average of the P and R curve\n",
    "    TrainAvgP = average_precision_score(y_train, y_train_predict)\n",
    "    TestAvgP = average_precision_score(y_test, y_test_predict)\n",
    "    \n",
    "    TrainAccuracy = accuracy_score(y_train, y_train_predict)\n",
    "    TestAccuracy = accuracy_score(y_test, y_test_predict)\n",
    "    \n",
    "    df.loc['Train'] = pd.Series({'Precision': TrainPrecision, 'Recall': TrainRecall, 'F1': Trainf1, 'Avg Precision': TrainAvgP, 'Accuracy': TrainAccuracy})\n",
    "    df.loc['Test'] = pd.Series({'Precision': TestPrecision, 'Recall': TestRecall, 'F1': Testf1, 'Avg Precision': TestAvgP, 'Accuracy': TestAccuracy})\n",
    "    return df"
   ]
  },
  {
   "cell_type": "code",
   "execution_count": 114,
   "metadata": {},
   "outputs": [
    {
     "data": {
      "text/html": [
       "<div>\n",
       "<style scoped>\n",
       "    .dataframe tbody tr th:only-of-type {\n",
       "        vertical-align: middle;\n",
       "    }\n",
       "\n",
       "    .dataframe tbody tr th {\n",
       "        vertical-align: top;\n",
       "    }\n",
       "\n",
       "    .dataframe thead th {\n",
       "        text-align: right;\n",
       "    }\n",
       "</style>\n",
       "<table border=\"1\" class=\"dataframe\">\n",
       "  <thead>\n",
       "    <tr style=\"text-align: right;\">\n",
       "      <th></th>\n",
       "      <th>Precision</th>\n",
       "      <th>Recall</th>\n",
       "      <th>F1</th>\n",
       "      <th>Avg Precision</th>\n",
       "      <th>Accuracy</th>\n",
       "    </tr>\n",
       "  </thead>\n",
       "  <tbody>\n",
       "    <tr>\n",
       "      <th>Train</th>\n",
       "      <td>1</td>\n",
       "      <td>1</td>\n",
       "      <td>1</td>\n",
       "      <td>1</td>\n",
       "      <td>1</td>\n",
       "    </tr>\n",
       "    <tr>\n",
       "      <th>Test</th>\n",
       "      <td>1</td>\n",
       "      <td>1</td>\n",
       "      <td>1</td>\n",
       "      <td>1</td>\n",
       "      <td>1</td>\n",
       "    </tr>\n",
       "  </tbody>\n",
       "</table>\n",
       "</div>"
      ],
      "text/plain": [
       "       Precision  Recall  F1  Avg Precision  Accuracy\n",
       "Train          1       1   1              1         1\n",
       "Test           1       1   1              1         1"
      ]
     },
     "execution_count": 114,
     "metadata": {},
     "output_type": "execute_result"
    }
   ],
   "source": [
    "#Sanity check with dummy variable:  output should be 1.0)\n",
    "df = SingleTest(DummyX_train, Dummyy_train, DummyX_test, Dummyy_test)\n",
    "df.head()"
   ]
  },
  {
   "cell_type": "code",
   "execution_count": 116,
   "metadata": {},
   "outputs": [],
   "source": [
    "def SequentialSetRun(X, y, testsize):\n",
    "   \n",
    "    #Predicting on Real DataSet - Only 1 run\n",
    "    num_articles = len(X) -1 #Subtract header row\n",
    "    #testsize = 0.30\n",
    "    trainsize = 1-testsize\n",
    "\n",
    "\n",
    "    #Select first 70% as train\n",
    "    X_train = X.iloc[:round(num_articles*trainsize)]\n",
    "    y_train = y.iloc[:round(num_articles*trainsize)]\n",
    "\n",
    "    #Followiing 30% is test\n",
    "    X_test = X.iloc[(round(num_articles*trainsize)):]\n",
    "    y_test = y.iloc[(round(num_articles*trainsize)):]\n",
    "   \n",
    "    #Run SingleTest\n",
    "    TestResults = SingleTest(X_train, y_train, X_test, y_test)\n",
    "\n",
    "\n",
    "    return TestResults\n",
    "    "
   ]
  },
  {
   "cell_type": "code",
   "execution_count": 117,
   "metadata": {},
   "outputs": [
    {
     "data": {
      "text/html": [
       "<div>\n",
       "<style scoped>\n",
       "    .dataframe tbody tr th:only-of-type {\n",
       "        vertical-align: middle;\n",
       "    }\n",
       "\n",
       "    .dataframe tbody tr th {\n",
       "        vertical-align: top;\n",
       "    }\n",
       "\n",
       "    .dataframe thead th {\n",
       "        text-align: right;\n",
       "    }\n",
       "</style>\n",
       "<table border=\"1\" class=\"dataframe\">\n",
       "  <thead>\n",
       "    <tr style=\"text-align: right;\">\n",
       "      <th></th>\n",
       "      <th>Precision</th>\n",
       "      <th>Recall</th>\n",
       "      <th>F1</th>\n",
       "      <th>Avg Precision</th>\n",
       "      <th>Accuracy</th>\n",
       "    </tr>\n",
       "  </thead>\n",
       "  <tbody>\n",
       "    <tr>\n",
       "      <th>Train</th>\n",
       "      <td>0.840249</td>\n",
       "      <td>0.848382</td>\n",
       "      <td>0.819838</td>\n",
       "      <td>0.758562</td>\n",
       "      <td>0.848382</td>\n",
       "    </tr>\n",
       "    <tr>\n",
       "      <th>Test</th>\n",
       "      <td>0.59375</td>\n",
       "      <td>0.672619</td>\n",
       "      <td>0.535211</td>\n",
       "      <td>0.487676</td>\n",
       "      <td>0.672619</td>\n",
       "    </tr>\n",
       "  </tbody>\n",
       "</table>\n",
       "</div>"
      ],
      "text/plain": [
       "      Precision    Recall        F1 Avg Precision  Accuracy\n",
       "Train  0.840249  0.848382  0.819838      0.758562  0.848382\n",
       "Test    0.59375  0.672619  0.535211      0.487676  0.672619"
      ]
     },
     "execution_count": 117,
     "metadata": {},
     "output_type": "execute_result"
    }
   ],
   "source": [
    "dfSeqTest = SequentialSetRun(X, y, 0.30) #final number is % size of testing set\n",
    "dfSeqTest.head()"
   ]
  },
  {
   "cell_type": "markdown",
   "metadata": {},
   "source": [
    "## The code below is a WIP for potential kfold CV with sequential splits\n",
    "We can circle back to it if time allows, as we do not anticipate a different result from a single split in data"
   ]
  },
  {
   "cell_type": "code",
   "execution_count": null,
   "metadata": {},
   "outputs": [],
   "source": [
    "#Predicting on Real DataSet - Returns mean accuracy and CI @95%\n",
    "\n",
    "#We want to split the data into sequential folds\n",
    "\n",
    "#i=0 #k=2\n",
    "def kSequential_Split(k, itr, X, data_xy):\n",
    "    newdata = data_xy\n",
    "    for row in newdata.index: #where X is our dataset\n",
    "        #if it is, drop the row X\n",
    "        if (row % k) == itr:\n",
    "            #make sure there is a row to drop\n",
    "            if row <= len(newdata.index):\n",
    "                #print('Dropping article:', row)\n",
    "                newdata = newdtata.drop(newdata.index[row])\n",
    "    XData = newdata.drop(columns=['whatever_youd_like'])  \n",
    "    yData = newdata['whatever_youd_like']\n",
    "    return XData, yData"
   ]
  },
  {
   "cell_type": "code",
   "execution_count": null,
   "metadata": {},
   "outputs": [],
   "source": [
    "#We now have our subset of data, newX\n",
    "#split into 70/30 (first 70 to next 30 chunk of data)\n",
    "newX.head()\n",
    "len(newX.index)\n",
    "newX.shape\n"
   ]
  },
  {
   "cell_type": "code",
   "execution_count": null,
   "metadata": {},
   "outputs": [],
   "source": [
    "logReg = LogisticRegression(penalty='l2', dual=False, tol=0.0001, C=1.0, fit_intercept=True, random_state=0, solver='liblinear')\n",
    "clf = logReg.fit(X_train, y_train)\n",
    "\n",
    "#predict on all rows=articles from row 2 onwards\n",
    "pred_train = clf.predict(X_train.values[:2,:]) \n",
    "pred_test = clf.predict(X_test.values[:2,:])"
   ]
  },
  {
   "cell_type": "code",
   "execution_count": null,
   "metadata": {},
   "outputs": [],
   "source": [
    "#Without Dummy Variable\n",
    "TrainScores = clf.score(X_train,y_train)\n",
    "TestScores = clf.score(X_test,y_test)\n",
    "\n",
    "#Return the mean accuracy on the given test data and labels (should be 1.0)\n",
    "print(TrainScores)\n",
    "print(TestScores)"
   ]
  },
  {
   "cell_type": "code",
   "execution_count": null,
   "metadata": {},
   "outputs": [],
   "source": [
    "#Code for k-fold cross validation with random splits. We want sequential splits\n",
    "def random_mean_ci(X, y, data_xy, num_tests):\n",
    "    # train_results is a list of train accuracy results for the differrent random splits of the dataset\n",
    "    train_results = []\n",
    "    \n",
    "    # test_results is a list of test accuracy results for the differrent random splits of the dataset\n",
    "    test_results = []\n",
    "    \n",
    "    # Write your code here\n",
    "    for i in range(num_tests):\n",
    "        \n",
    "        #METHOD 1: Random Datasplit (old version - not sequential date sampling)\n",
    "        #X_train, X_test, y_train, y_test = train_test_split(X, y, test_size=0.3, random_state=random.randint(1,1000))\n",
    "\n",
    "        #METHOD 2: Sequential Datasplit Variation of k-fold Cross Valid. (new version - sequential date sampling)\n",
    "        Xdata, ydata = kSequential_Split(num_tests, i, X, data_xy)\n",
    "        \n",
    "        \n",
    "        # train a logistic regression classifier\n",
    "        clf = LogisticRegression(C=1.0, penalty='l2', dual=False, tol=0.0001, fit_intercept=True, solver='liblinear').fit(X_train, y_train)\n",
    "\n",
    "        # predict on train and test set\n",
    "        y_train_predict = clf.predict(X_train)\n",
    "        y_test_predict = clf.predict(X_test)\n",
    "\n",
    "        # calculate train and test accuracy\n",
    "        train_accuracy = accuracy_score(y_train, y_train_predict)\n",
    "        test_accuracy = accuracy_score(y_test, y_test_predict)\n",
    "\n",
    "        # report results, update the results array\n",
    "        train_results.append(train_accuracy)\n",
    "        test_results.append(test_accuracy)\n",
    "\n",
    "    # calculate the train mean and the 95% confidence interval for the list of results\n",
    "    train_mean = np.mean(train_results)\n",
    "    train_ci_low, train_ci_high = stats.t.interval(0.95, len(train_results)-1, loc=train_mean, scale=stats.sem(train_results))\n",
    "\n",
    "    # calculate the test mean and the 95% confidence interval for the list of results\n",
    "    test_mean = np.mean(test_results)\n",
    "    test_ci_low, test_ci_high = stats.t.interval(0.95, len(test_results)-1, loc=test_mean, scale=stats.sem(test_results))\n",
    "    \n",
    "    # validate return types\n",
    "    assert isinstance(train_mean, float) and isinstance(train_ci_low, float) and isinstance(train_ci_high, float), \"return types\"\n",
    "    assert isinstance(test_mean, float) and isinstance(test_ci_low, float) and isinstance(test_ci_high, float), \"return types\"\n",
    "    \n",
    "    return train_mean, train_ci_low, train_ci_high, test_mean, test_ci_low, test_ci_high"
   ]
  },
  {
   "cell_type": "code",
   "execution_count": null,
   "metadata": {},
   "outputs": [],
   "source": [
    "#Accuracy and CI over 10 runs\n",
    "train_mean, train_low, train_high, test_mean, test_low, test_high = random_mean_ci(X, y, data_xy, num_tests = 10)\n",
    "print(\"Train mean accuracy over 10 random splits: {}\".format(train_mean))\n",
    "print(\"Train confidence interval over 10 random splits: [{}, {}]\".format(train_low, train_high))\n",
    "print(\"Test mean accuracy over 10 random splits: {}\".format(test_mean))\n",
    "print(\"Test confidence interval over 10 random splits: [{}, {}]\".format(test_low, test_high))"
   ]
  },
  {
   "cell_type": "markdown",
   "metadata": {},
   "source": [
    "An initial run with Retail only Articles, to determine market moving or not (Randomly split):\n",
    "\n",
    "Train mean accuracy over 10 random splits: 0.7402896081771722\n",
    "Train confidence interval over 10 random splits: [0.7288090750212393, 0.751770141333105]\n",
    "Test mean accuracy over 10 random splits: 0.5650793650793651\n",
    "Test confidence interval over 10 random splits: [0.547570102462968, 0.5825886276957621]\n"
   ]
  },
  {
   "cell_type": "code",
   "execution_count": null,
   "metadata": {},
   "outputs": [],
   "source": []
  },
  {
   "cell_type": "code",
   "execution_count": null,
   "metadata": {},
   "outputs": [],
   "source": []
  }
 ],
 "metadata": {
  "kernelspec": {
   "display_name": "Python 3",
   "language": "python",
   "name": "python3"
  },
  "language_info": {
   "codemirror_mode": {
    "name": "ipython",
    "version": 3
   },
   "file_extension": ".py",
   "mimetype": "text/x-python",
   "name": "python",
   "nbconvert_exporter": "python",
   "pygments_lexer": "ipython3",
   "version": "3.6.5"
  }
 },
 "nbformat": 4,
 "nbformat_minor": 2
}
