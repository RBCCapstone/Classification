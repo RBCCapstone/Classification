{
 "cells": [
  {
   "cell_type": "code",
   "execution_count": 1,
   "metadata": {},
   "outputs": [
    {
     "data": {
      "text/html": [
       "<div>\n",
       "<style scoped>\n",
       "    .dataframe tbody tr th:only-of-type {\n",
       "        vertical-align: middle;\n",
       "    }\n",
       "\n",
       "    .dataframe tbody tr th {\n",
       "        vertical-align: top;\n",
       "    }\n",
       "\n",
       "    .dataframe thead th {\n",
       "        text-align: right;\n",
       "    }\n",
       "</style>\n",
       "<table border=\"1\" class=\"dataframe\">\n",
       "  <thead>\n",
       "    <tr style=\"text-align: right;\">\n",
       "      <th></th>\n",
       "      <th>jade date</th>\n",
       "      <th>y-val</th>\n",
       "    </tr>\n",
       "  </thead>\n",
       "  <tbody>\n",
       "    <tr>\n",
       "      <th>0</th>\n",
       "      <td>43276</td>\n",
       "      <td>16.036820</td>\n",
       "    </tr>\n",
       "    <tr>\n",
       "      <th>1</th>\n",
       "      <td>43277</td>\n",
       "      <td>11.399772</td>\n",
       "    </tr>\n",
       "    <tr>\n",
       "      <th>2</th>\n",
       "      <td>43278</td>\n",
       "      <td>10.377035</td>\n",
       "    </tr>\n",
       "    <tr>\n",
       "      <th>3</th>\n",
       "      <td>43279</td>\n",
       "      <td>10.337987</td>\n",
       "    </tr>\n",
       "    <tr>\n",
       "      <th>4</th>\n",
       "      <td>43280</td>\n",
       "      <td>11.928215</td>\n",
       "    </tr>\n",
       "  </tbody>\n",
       "</table>\n",
       "</div>"
      ],
      "text/plain": [
       "   jade date      y-val\n",
       "0      43276  16.036820\n",
       "1      43277  11.399772\n",
       "2      43278  10.377035\n",
       "3      43279  10.337987\n",
       "4      43280  11.928215"
      ]
     },
     "execution_count": 1,
     "metadata": {},
     "output_type": "execute_result"
    }
   ],
   "source": [
    "\"\"\"\n",
    "Created on Wed Oct  3 14:47:19 2018\n",
    "\n",
    "@author: Jessie\n",
    "\"\"\"\n",
    "%matplotlib inline\n",
    "from __future__ import print_function\n",
    "import pandas as pd\n",
    "import numpy as np\n",
    "import scipy.stats as stats\n",
    "import sklearn\n",
    "#import statsmodels.api as sm\n",
    "#import statsmodels.formula.api as smf\n",
    "#import statsmodels.stats.api as sms\n",
    "import matplotlib.pyplot as plt\n",
    "from IPython.display import Image\n",
    "\n",
    "trainx = pd.read_csv(\"/Users/Legendary/Documents/GitHub/DataCollection/Data/LR Data/train-x.csv\")\n",
    "trainy = pd.read_csv(\"/Users/Legendary/Documents/GitHub/DataCollection/Data/LR Data/train-y.csv\")\n",
    "testx = pd.read_csv(\"/Users/Legendary/Documents/GitHub/DataCollection/Data/LR Data/test-x.csv\")\n",
    "testy = pd.read_csv(\"/Users/Legendary/Documents/GitHub/DataCollection/Data/LR Data/test-y.csv\")\n",
    "\n",
    "testy.head()\n",
    "\n"
   ]
  },
  {
   "cell_type": "code",
   "execution_count": 2,
   "metadata": {},
   "outputs": [],
   "source": [
    "#Import Lin reg from sci=kit module\n",
    "from sklearn.linear_model import LinearRegression\n",
    "#drop date from the independent variables\n",
    "Y_Train = trainy.drop('Date', axis =1)\n",
    "X_Train = trainx.drop('dummy-y-val', axis=1)\n",
    "Y_Test  = testy.drop('jade date',axis =1)\n",
    "X_Test = testx.drop('dummy-y-val',axis=1)"
   ]
  },
  {
   "cell_type": "code",
   "execution_count": 3,
   "metadata": {},
   "outputs": [
    {
     "data": {
      "text/html": [
       "<div>\n",
       "<style scoped>\n",
       "    .dataframe tbody tr th:only-of-type {\n",
       "        vertical-align: middle;\n",
       "    }\n",
       "\n",
       "    .dataframe tbody tr th {\n",
       "        vertical-align: top;\n",
       "    }\n",
       "\n",
       "    .dataframe thead th {\n",
       "        text-align: right;\n",
       "    }\n",
       "</style>\n",
       "<table border=\"1\" class=\"dataframe\">\n",
       "  <thead>\n",
       "    <tr style=\"text-align: right;\">\n",
       "      <th></th>\n",
       "      <th>sales</th>\n",
       "      <th>walmart</th>\n",
       "      <th>amazon</th>\n",
       "      <th>store</th>\n",
       "      <th>stores</th>\n",
       "      <th>retail</th>\n",
       "      <th>brands</th>\n",
       "      <th>retailer</th>\n",
       "      <th>earnings</th>\n",
       "      <th>quarter</th>\n",
       "      <th>...</th>\n",
       "      <th>penney</th>\n",
       "      <th>june</th>\n",
       "      <th>expects</th>\n",
       "      <th>consumers</th>\n",
       "      <th>reported</th>\n",
       "      <th>technology</th>\n",
       "      <th>wall</th>\n",
       "      <th>farms</th>\n",
       "      <th>cramer</th>\n",
       "      <th>dunkin</th>\n",
       "    </tr>\n",
       "  </thead>\n",
       "  <tbody>\n",
       "    <tr>\n",
       "      <th>0</th>\n",
       "      <td>1</td>\n",
       "      <td>0</td>\n",
       "      <td>0</td>\n",
       "      <td>0</td>\n",
       "      <td>1</td>\n",
       "      <td>0</td>\n",
       "      <td>1</td>\n",
       "      <td>0</td>\n",
       "      <td>0</td>\n",
       "      <td>1</td>\n",
       "      <td>...</td>\n",
       "      <td>0</td>\n",
       "      <td>12</td>\n",
       "      <td>1</td>\n",
       "      <td>1</td>\n",
       "      <td>2</td>\n",
       "      <td>12</td>\n",
       "      <td>3</td>\n",
       "      <td>0</td>\n",
       "      <td>0</td>\n",
       "      <td>0</td>\n",
       "    </tr>\n",
       "    <tr>\n",
       "      <th>1</th>\n",
       "      <td>10</td>\n",
       "      <td>0</td>\n",
       "      <td>1</td>\n",
       "      <td>2</td>\n",
       "      <td>0</td>\n",
       "      <td>1</td>\n",
       "      <td>0</td>\n",
       "      <td>0</td>\n",
       "      <td>0</td>\n",
       "      <td>6</td>\n",
       "      <td>...</td>\n",
       "      <td>0</td>\n",
       "      <td>7</td>\n",
       "      <td>2</td>\n",
       "      <td>0</td>\n",
       "      <td>0</td>\n",
       "      <td>2</td>\n",
       "      <td>0</td>\n",
       "      <td>0</td>\n",
       "      <td>0</td>\n",
       "      <td>0</td>\n",
       "    </tr>\n",
       "    <tr>\n",
       "      <th>2</th>\n",
       "      <td>3</td>\n",
       "      <td>0</td>\n",
       "      <td>0</td>\n",
       "      <td>0</td>\n",
       "      <td>0</td>\n",
       "      <td>0</td>\n",
       "      <td>0</td>\n",
       "      <td>0</td>\n",
       "      <td>0</td>\n",
       "      <td>2</td>\n",
       "      <td>...</td>\n",
       "      <td>0</td>\n",
       "      <td>0</td>\n",
       "      <td>0</td>\n",
       "      <td>3</td>\n",
       "      <td>0</td>\n",
       "      <td>0</td>\n",
       "      <td>2</td>\n",
       "      <td>0</td>\n",
       "      <td>0</td>\n",
       "      <td>0</td>\n",
       "    </tr>\n",
       "    <tr>\n",
       "      <th>3</th>\n",
       "      <td>15</td>\n",
       "      <td>1</td>\n",
       "      <td>11</td>\n",
       "      <td>0</td>\n",
       "      <td>0</td>\n",
       "      <td>2</td>\n",
       "      <td>3</td>\n",
       "      <td>0</td>\n",
       "      <td>0</td>\n",
       "      <td>6</td>\n",
       "      <td>...</td>\n",
       "      <td>0</td>\n",
       "      <td>3</td>\n",
       "      <td>2</td>\n",
       "      <td>2</td>\n",
       "      <td>4</td>\n",
       "      <td>2</td>\n",
       "      <td>3</td>\n",
       "      <td>0</td>\n",
       "      <td>0</td>\n",
       "      <td>0</td>\n",
       "    </tr>\n",
       "    <tr>\n",
       "      <th>4</th>\n",
       "      <td>3</td>\n",
       "      <td>0</td>\n",
       "      <td>0</td>\n",
       "      <td>0</td>\n",
       "      <td>0</td>\n",
       "      <td>0</td>\n",
       "      <td>0</td>\n",
       "      <td>0</td>\n",
       "      <td>4</td>\n",
       "      <td>10</td>\n",
       "      <td>...</td>\n",
       "      <td>0</td>\n",
       "      <td>7</td>\n",
       "      <td>1</td>\n",
       "      <td>1</td>\n",
       "      <td>1</td>\n",
       "      <td>0</td>\n",
       "      <td>2</td>\n",
       "      <td>0</td>\n",
       "      <td>0</td>\n",
       "      <td>0</td>\n",
       "    </tr>\n",
       "  </tbody>\n",
       "</table>\n",
       "<p>5 rows × 100 columns</p>\n",
       "</div>"
      ],
      "text/plain": [
       "   sales  walmart  amazon  store  stores  retail  brands  retailer  earnings  \\\n",
       "0      1        0       0      0       1       0       1         0         0   \n",
       "1     10        0       1      2       0       1       0         0         0   \n",
       "2      3        0       0      0       0       0       0         0         0   \n",
       "3     15        1      11      0       0       2       3         0         0   \n",
       "4      3        0       0      0       0       0       0         0         4   \n",
       "\n",
       "   quarter   ...    penney  june  expects  consumers  reported  technology  \\\n",
       "0        1   ...         0    12        1          1         2          12   \n",
       "1        6   ...         0     7        2          0         0           2   \n",
       "2        2   ...         0     0        0          3         0           0   \n",
       "3        6   ...         0     3        2          2         4           2   \n",
       "4       10   ...         0     7        1          1         1           0   \n",
       "\n",
       "   wall  farms  cramer  dunkin  \n",
       "0     3      0       0       0  \n",
       "1     0      0       0       0  \n",
       "2     2      0       0       0  \n",
       "3     3      0       0       0  \n",
       "4     2      0       0       0  \n",
       "\n",
       "[5 rows x 100 columns]"
      ]
     },
     "execution_count": 3,
     "metadata": {},
     "output_type": "execute_result"
    }
   ],
   "source": [
    "X_Train = X_Train.drop('Date', axis=1)\n",
    "X_Test = X_Test.drop('Date',axis=1)\n",
    "X_Test.head()\n",
    "#Y_Test.head()\n",
    "#X_Train.head()\n",
    "#Y_Train.head()"
   ]
  },
  {
   "cell_type": "code",
   "execution_count": 4,
   "metadata": {},
   "outputs": [
    {
     "name": "stdout",
     "output_type": "stream",
     "text": [
      "[[12.21961581]\n",
      " [11.40657003]\n",
      " [11.10485269]\n",
      " [11.27574925]\n",
      " [10.22957877]]\n"
     ]
    },
    {
     "data": {
      "text/plain": [
       "1.0"
      ]
     },
     "execution_count": 4,
     "metadata": {},
     "output_type": "execute_result"
    }
   ],
   "source": [
    "#Testing with dummy-y-variable\n",
    "lm = LinearRegression()\n",
    "lm.fit(trainx, Y_Train)\n",
    "pred_train = lm.predict(trainx)\n",
    "lm.coef_\n",
    "print(pred_train[0:5]) #print first 5 predictions\n",
    "lm.score(trainx,Y_Train) #r2 value "
   ]
  },
  {
   "cell_type": "code",
   "execution_count": 5,
   "metadata": {},
   "outputs": [
    {
     "name": "stdout",
     "output_type": "stream",
     "text": [
      "[[12.4621959 ]\n",
      " [ 9.88163683]\n",
      " [11.96455199]\n",
      " [13.61554513]\n",
      " [10.1250563 ]]\n"
     ]
    },
    {
     "data": {
      "text/plain": [
       "0.5908058737253898"
      ]
     },
     "execution_count": 5,
     "metadata": {},
     "output_type": "execute_result"
    }
   ],
   "source": [
    "#Predicting on Training Set only\n",
    "lm2 = LinearRegression()\n",
    "lm2.fit(X_Train,Y_Train)\n",
    "pred_train = lm2.predict(X_Train)\n",
    "lm2.coef_\n",
    "print(pred_train[0:5]) #print first 5 predictions\n",
    "lm2.score(X_Train,Y_Train) #r2 value "
   ]
  },
  {
   "cell_type": "code",
   "execution_count": 6,
   "metadata": {},
   "outputs": [
    {
     "name": "stdout",
     "output_type": "stream",
     "text": [
      "(155, 100)\n",
      "(68, 100)\n",
      "(155, 1)\n",
      "(68, 1)\n"
     ]
    }
   ],
   "source": [
    "#Double check size\n",
    "print (X_Train.shape)\n",
    "print (X_Test.shape)\n",
    "print (Y_Train.shape)\n",
    "print (Y_Test.shape)"
   ]
  },
  {
   "cell_type": "code",
   "execution_count": 11,
   "metadata": {},
   "outputs": [
    {
     "data": {
      "text/plain": [
       "array([[ 8.00721598e-02, -1.44325336e-01, -3.57956333e-02,\n",
       "         1.10098150e-02,  3.11335453e-02, -3.45184890e-02,\n",
       "         9.90239575e-03, -1.45197956e-01, -9.45368794e-02,\n",
       "        -1.53653446e-01,  3.31457145e-01,  1.76412659e-01,\n",
       "        -1.51602957e-02, -1.27801418e-01,  6.73414360e-02,\n",
       "        -3.68975649e-02, -9.01261536e-02, -1.20535000e+01,\n",
       "        -1.43597857e-01,  5.77195951e-02, -6.45733506e-02,\n",
       "         1.35897741e-01,  3.22271616e-02, -5.71549282e-01,\n",
       "         1.89110759e-01,  1.95818251e-01,  4.07005083e-01,\n",
       "        -5.37255370e-02, -5.21982524e-01, -2.24782345e-01,\n",
       "        -2.30866850e-01,  2.10064975e-01,  3.65534485e-01,\n",
       "        -1.73088102e-01,  1.69404262e-01, -1.11570371e+00,\n",
       "         4.03521462e-01,  5.35498998e-02,  7.46710780e-01,\n",
       "        -3.31744529e-02, -9.41133645e-02, -4.16177195e+00,\n",
       "        -4.19458769e-03, -4.85252386e-02, -2.44847801e+00,\n",
       "         5.43644121e-01, -4.46190984e-01,  1.05477868e-01,\n",
       "         1.27552063e-01, -1.10376354e-03, -9.95690490e-02,\n",
       "        -6.63140755e-03, -2.02261326e-02, -3.13381961e-01,\n",
       "         9.05980654e-03, -5.48707564e-02, -6.81372352e-02,\n",
       "         2.14071890e-01, -1.88894082e-01, -1.91088668e-01,\n",
       "        -1.69351072e-01, -1.30961678e-01, -7.42057237e-03,\n",
       "        -4.70140737e-01, -5.84166755e-02, -1.10784934e-01,\n",
       "        -9.00666333e-02, -4.07774272e-01, -7.07875780e-01,\n",
       "         5.49696678e-01,  6.04071713e-01, -8.37743249e-01,\n",
       "        -1.31270755e+00,  1.74355601e+00, -1.28717561e-01,\n",
       "        -4.64915284e-01, -2.14728147e-01, -1.01201498e-01,\n",
       "         8.99541254e-01, -5.80736324e-01, -1.05352593e-01,\n",
       "         3.74650145e-01,  2.31177436e-01, -3.21862147e-01,\n",
       "         2.08538520e-01,  5.52407848e-01, -8.35797679e-01,\n",
       "        -3.40887040e-01, -1.04541117e-01, -6.36467277e-01,\n",
       "         1.15106609e-01, -4.16088517e-01, -3.33941084e-01,\n",
       "         2.18074108e-01,  1.90184602e-02,  2.92633130e-02,\n",
       "         9.12591225e-01,  5.67619696e-01, -9.63942923e-02,\n",
       "         9.98571116e-01]])"
      ]
     },
     "execution_count": 11,
     "metadata": {},
     "output_type": "execute_result"
    }
   ],
   "source": [
    "#Train-Test split\n",
    "lm3 = LinearRegression()\n",
    "lm3.fit(X_Train, Y_Train)\n",
    "pred_train = lm3.predict(X_Train)\n",
    "pred_test = lm3.predict(X_Test)\n",
    "lm3.coef_\n",
    "#print(pred_test[0:5]) #print first 5 predictions\n",
    "#lm3.score(X_Train,Y_Train) #r2 value \n",
    "#lm3.score(X_Test,Y_Test)"
   ]
  },
  {
   "cell_type": "code",
   "execution_count": 8,
   "metadata": {},
   "outputs": [
    {
     "name": "stdout",
     "output_type": "stream",
     "text": [
      "Fit a model X_train, and calculate MSE and R2 with Y_train: y-val    8.386045\n",
      "dtype: float64 0.5908058737253898\n",
      "Fit a model X_train, and calculate MSE and R2 with X_test, Y_test: y-val    52.207631\n",
      "dtype: float64 -2.5962096496905462\n"
     ]
    }
   ],
   "source": [
    "#Error Values\n",
    "MSEtrain = np.mean((Y_Train - lm2.predict(X_Train)) ** 2)\n",
    "MSEtesttrain = np.mean((Y_Test - lm3.predict(X_Test)) **2)\n",
    "print ('Fit a model X_train, and calculate MSE and R2 with Y_train:',MSEtrain, lm2.score(X_Train,Y_Train)) #r2 value  )\n",
    "print ('Fit a model X_train, and calculate MSE and R2 with X_test, Y_test:', MSEtesttrain, lm3.score(X_Test,Y_Test))"
   ]
  },
  {
   "cell_type": "code",
   "execution_count": 9,
   "metadata": {},
   "outputs": [
    {
     "data": {
      "text/plain": [
       "Text(0.5,0,'Y predictions')"
      ]
     },
     "execution_count": 9,
     "metadata": {},
     "output_type": "execute_result"
    },
    {
     "data": {
      "image/png": "[encoded data removed]",
      "text/plain": [
       "<Figure size 432x288 with 1 Axes>"
      ]
     },
     "metadata": {},
     "output_type": "display_data"
    }
   ],
   "source": [
    "#Residual plots\n",
    "plt.scatter(lm.predict(trainx), lm.predict(trainx) - Y_Train, c='r', s=40, alpha = 0.5)\n",
    "plt.scatter(lm2.predict(X_Train), lm2.predict(X_Train) - Y_Train, c='b', s=40, alpha=0.8)\n",
    "plt.scatter(lm3.predict(X_Test), lm3.predict(X_Test) - Y_Test, c='g', s=40)\n",
    "plt.hlines(y=0, xmin=0, xmax=30)\n",
    "plt.title('Residual Plot using dummy (red) training (blue) and test (green) data')\n",
    "plt.ylabel('Residuals')\n",
    "plt.xlabel('Y predictions')"
   ]
  },
  {
   "cell_type": "code",
   "execution_count": null,
   "metadata": {},
   "outputs": [],
   "source": [
    "#ignore for now\n",
    "print ('Estimated intercept coeff:', lm.intercept_)\n",
    "print ('Numer of coeff:', len(lm.coef_))"
   ]
  },
  {
   "cell_type": "code",
   "execution_count": null,
   "metadata": {},
   "outputs": [],
   "source": []
  },
  {
   "cell_type": "code",
   "execution_count": null,
   "metadata": {},
   "outputs": [],
   "source": [
    "#ignore for now\n",
    "pd.DataFrame(list(zip(trainx.columns,lm.coef_)), columns = ['features','estimatedCoefficients'])"
   ]
  },
  {
   "cell_type": "code",
   "execution_count": null,
   "metadata": {},
   "outputs": [],
   "source": []
  }
 ],
 "metadata": {
  "kernelspec": {
   "display_name": "Python 3",
   "language": "python",
   "name": "python3"
  },
  "language_info": {
   "codemirror_mode": {
    "name": "ipython",
    "version": 3
   },
   "file_extension": ".py",
   "mimetype": "text/x-python",
   "name": "python",
   "nbconvert_exporter": "python",
   "pygments_lexer": "ipython3",
   "version": "3.6.5"
  }
 },
 "nbformat": 4,
 "nbformat_minor": 2
}
