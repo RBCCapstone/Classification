{
 "cells": [
  {
   "cell_type": "code",
   "execution_count": null,
   "metadata": {},
   "outputs": [],
   "source": [
    "\"\"\"\n",
    "Original @author: Jessie - 2018-10-03\n",
    "\n",
    "Updated by @author: Jade - 2018-11-27\n",
    "\n",
    "\"\"\"\n",
    "# imports \n",
    "%matplotlib inline\n",
    "from __future__ import print_function\n",
    "import pandas as pd\n",
    "import numpy as np\n",
    "import scipy.stats as stats\n",
    "import matplotlib.pyplot as plt\n",
    "from IPython.display import Image\n",
    "import sklearn import linear_model\n",
    "from sklearn.exceptions import ConvergenceWarning\n",
    "from sklearn.model_selection import train_test_split\n",
    "from sklearn.metrics import average_precision_score, accuracy_score, precision_score, recall_score, f1_score, confusion_matrix, classification_report \n",
    "import numpy as np\n",
    "from scipy import stats\n",
    "import matplotlib\n",
    "import matplotlib.pyplot as plt"
   ]
  },
  {
   "cell_type": "code",
   "execution_count": null,
   "metadata": {},
   "outputs": [],
   "source": [
    "# load data\n",
    "#import numpy array\n",
    "def LoadSplitData(split):\n",
    "    DATA_DIR = \"Data\"\n",
    "    ENCODING_DIR = os.path.join(DATA_DIR, \"binEncoding.csv\")\n",
    "   \n",
    "    data_xy = pd.read_csv(ENCODING_DIR)\n",
    "    data_xy = data_xy.drop(columns= ['Unnamed: 0'])\n",
    "\n",
    "    #drop the target variables you do not need (1-7), market moving or not ratings\n",
    "    colsxy= [0,1,2,4,5,6] #needs change\n",
    "    data_xy = data_xy.drop(data_xy.columns[colsxy],axis=1)\n",
    "    \n",
    "    cols =[0,1,2,3,4,5,6]\n",
    "    X = data_xy.drop(data_xy.columns[cols],axis=1)\n",
    "    y = data_xy.iloc[:,3] #needs change\n",
    "    \n",
    "    \n",
    "    #Get dummy test/train set \n",
    "    DummyX_train, DummyX_test, Dummyy_train, Dummyy_test = train_test_split(data_xy, y, test_size=split, random_state=42)\n",
    "    \n",
    "    return X, y, DummyX_train, DummyX_test, Dummyy_train, Dummyy_test, data_xy"
   ]
  },
  {
   "cell_type": "code",
   "execution_count": null,
   "metadata": {},
   "outputs": [],
   "source": [
    "X, y, DummyX_train, DummyX_test, Dummyy_train, Dummyy_test, data_xy = LoadSplitData(0.30) #Decide the test size (% of total data)"
   ]
  },
  {
   "cell_type": "code",
   "execution_count": null,
   "metadata": {},
   "outputs": [],
   "source": [
    "#Use Linear Regression - Testing with dummy-y-variable\n",
    "def SingleTest(X_train, y_train, X_test, y_test):\n",
    "    #define classifier\n",
    "    linReg = LinearRegression()\n",
    "\n",
    "    #Test \n",
    "    clfSingleTest = linReg.fit(X_train, y_train)\n",
    "\n",
    "    # predict on train and test set\n",
    "    y_train_predict = clfSingleTest.predict(X_train)\n",
    "    y_test_predict = clfSingleTest.predict(X_test)\n",
    "\n",
    "    #Binary metrics\n",
    "    columns = ['Precision','Recall', 'F1', 'Avg Precision', 'Accuracy']\n",
    "    df = pd.DataFrame(index=['Train','Test'], columns=columns)\n",
    "    \n",
    "    \n",
    "    TrainPrecision = precision_score(y_train, y_train_predict)\n",
    "    TestPrecision = precision_score(y_test, y_test_predict)\n",
    "    \n",
    "    TrainRecall = accuracy_score(y_train, y_train_predict)\n",
    "    TestRecall = accuracy_score(y_test, y_test_predict)\n",
    "    \n",
    "    Trainf1 = f1_score(y_train, y_train_predict, average='binary')\n",
    "    Testf1 = f1_score(y_test, y_test_predict, average='binary')\n",
    "    \n",
    "    #Not to be confused with the ranking metric, mAP (mean average precision), this is simply the average of the P and R curve\n",
    "    TrainAvgP = average_precision_score(y_train, y_train_predict)\n",
    "    TestAvgP = average_precision_score(y_test, y_test_predict)\n",
    "    \n",
    "    TrainAccuracy = accuracy_score(y_train, y_train_predict)\n",
    "    TestAccuracy = accuracy_score(y_test, y_test_predict)\n",
    "    \n",
    "    df.loc['Train'] = pd.Series({'Precision': TrainPrecision, 'Recall': TrainRecall, 'F1': Trainf1, 'Avg Precision': TrainAvgP, 'Accuracy': TrainAccuracy})\n",
    "    df.loc['Test'] = pd.Series({'Precision': TestPrecision, 'Recall': TestRecall, 'F1': Testf1, 'Avg Precision': TestAvgP, 'Accuracy': TestAccuracy})\n",
    "    return df"
   ]
  },
  {
   "cell_type": "code",
   "execution_count": null,
   "metadata": {},
   "outputs": [],
   "source": [
    "def SequentialSetRun(X, y, testsize):\n",
    "   \n",
    "    #Predicting on Real DataSet - Only 1 run\n",
    "    num_articles = len(X) -1 #Subtract header row\n",
    "    #testsize = 0.30\n",
    "    trainsize = 1-testsize\n",
    "\n",
    "\n",
    "    #Select first 70% as train\n",
    "    X_train = X.iloc[:round(num_articles*trainsize)]\n",
    "    y_train = y.iloc[:round(num_articles*trainsize)]\n",
    "\n",
    "    #Followiing 30% is test\n",
    "    X_test = X.iloc[(round(num_articles*trainsize)):]\n",
    "    y_test = y.iloc[(round(num_articles*trainsize)):]\n",
    "   \n",
    "    #Run SingleTest\n",
    "    TestResults = SingleTest(X_train, y_train, X_test, y_test)\n",
    "\n",
    "    return TestResults"
   ]
  },
  {
   "cell_type": "code",
   "execution_count": null,
   "metadata": {},
   "outputs": [],
   "source": [
    "# create variables for experiment\n",
    "X, y, DummyX_train, DummyX_test, Dummyy_train, Dummyy_test, data_xy = LoadSplitData(0.30) #Decide the test size (% of total data)"
   ]
  },
  {
   "cell_type": "code",
   "execution_count": null,
   "metadata": {},
   "outputs": [],
   "source": [
    "#Sanity check with dummy variable:  output should be 1.0)\n",
    "df = SingleTest(DummyX_train, Dummyy_train, DummyX_test, Dummyy_test)\n",
    "df.head()"
   ]
  },
  {
   "cell_type": "code",
   "execution_count": null,
   "metadata": {},
   "outputs": [],
   "source": [
    "# sequentially split data and run LR\n",
    "dfSeqTest = SequentialSetRun(X, y, 0.30) #final number is % size of testing set\n",
    "dfSeqTest.head()"
   ]
  }
 ],
 "metadata": {
  "kernelspec": {
   "display_name": "Python 3",
   "language": "python",
   "name": "python3"
  },
  "language_info": {
   "codemirror_mode": {
    "name": "ipython",
    "version": 3
   },
   "file_extension": ".py",
   "mimetype": "text/x-python",
   "name": "python",
   "nbconvert_exporter": "python",
   "pygments_lexer": "ipython3",
   "version": "3.6.6"
  }
 },
 "nbformat": 4,
 "nbformat_minor": 2
}
