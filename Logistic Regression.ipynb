{
 "cells": [
  {
   "cell_type": "code",
   "execution_count": 4,
   "metadata": {},
   "outputs": [],
   "source": [
    "\"\"\"\n",
    "Created on Wed Oct  3 14:47:19 2018\n",
    "\n",
    "@author: Jessie\n",
    "\"\"\"\n",
    "%matplotlib inline\n",
    "from __future__ import print_function\n",
    "import pandas as pd\n",
    "import numpy as np\n",
    "import scipy.stats as stats\n",
    "import sklearn\n",
    "import random\n",
    "import os\n",
    "from sklearn.linear_model import *\n",
    "import matplotlib.pyplot as plt\n",
    "from IPython.display import Image\n",
    "from sklearn.model_selection import train_test_split\n",
    "from sklearn.metrics import accuracy_score, confusion_matrix\n",
    "#import statsmodels.api as sm\n",
    "#import statsmodels.formula.api as smf\n",
    "#import statsmodels.stats.api as sms\n",
    "from pathlib import Path"
   ]
  },
  {
   "cell_type": "code",
   "execution_count": 5,
   "metadata": {},
   "outputs": [],
   "source": [
    "#import numpy array\n",
    "def LoadSplitData(test_size):\n",
    "    DATA_DIR = \"Data\"\n",
    "    ENCODING_DIR = os.path.join(DATA_DIR, \"binEncoding.csv\")\n",
    "    data_xy = pd.read_csv(ENCODING_DIR)\n",
    "    X = data_xy.drop(data_xy.columns[0:8], axis=1)\n",
    "    y = data_xy[data_xy.columns[1]]\n",
    "    \n",
    "    \n",
    "    #Split data into test/train set \n",
    "    X_train, X_test, y_train, y_test = train_test_split(X, y, test_size=0.30, random_state=42)\n",
    "    DummyX_train, DummyX_test, Dummyy_train, Dummyy_test = train_test_split(data_xy, y, test_size=0.30, random_state=42)\n",
    "    \n",
    "    return X, y, X_train, X_test, y_train, y_test, DummyX_train, DummyX_test, Dummyy_train, Dummyy_test\n",
    "    \n"
   ]
  },
  {
   "cell_type": "code",
   "execution_count": 6,
   "metadata": {},
   "outputs": [
    {
     "data": {
      "text/plain": [
       "0    1\n",
       "1    1\n",
       "2    1\n",
       "3    1\n",
       "4    1\n",
       "Name: price_delta>.3, dtype: int64"
      ]
     },
     "execution_count": 6,
     "metadata": {},
     "output_type": "execute_result"
    }
   ],
   "source": [
    "DATA_DIR = \"Data\"\n",
    "ENCODING_DIR = os.path.join(DATA_DIR, \"binEncoding.csv\")\n",
    "\n",
    "data_xy = pd.read_csv(ENCODING_DIR)\n",
    "X = data_xy.drop(data_xy.columns[0:8], axis=1)\n",
    "Y = data_xy[data_xy.columns[1]]\n",
    "Y.head()    "
   ]
  },
  {
   "cell_type": "code",
   "execution_count": 7,
   "metadata": {},
   "outputs": [],
   "source": [
    "X, y, X_train, X_test, y_train, y_test, DummyX_train, DummyX_test, Dummyy_train, Dummyy_test = LoadSplitData(0.30) #Decide the test size (% of total data)"
   ]
  },
  {
   "cell_type": "code",
   "execution_count": 8,
   "metadata": {},
   "outputs": [
    {
     "name": "stdout",
     "output_type": "stream",
     "text": [
      "(1174, 250)\n",
      "(1174, 258)\n"
     ]
    }
   ],
   "source": [
    "#Check Data\n",
    "X_train.head()\n",
    "print(X_train.shape)\n",
    "print(DummyX_train.shape)"
   ]
  },
  {
   "cell_type": "code",
   "execution_count": 9,
   "metadata": {},
   "outputs": [],
   "source": [
    "#Use Logistic Regression - Testing with dummy-y-variable\n",
    "\n",
    "def DummyTest(DummyX_train, Dummyy_train):\n",
    "    logReg = LogisticRegression(penalty='l2', dual=False, tol=0.0001, C=1.0, fit_intercept=True, random_state=0, solver='liblinear')\n",
    "\n",
    "    #Test with dummy \n",
    "    clfDummy = logReg.fit(DummyX_train, Dummyy_train)\n",
    "\n",
    "    #predict on all rows=articles from row 2 onwards\n",
    "    pred_train = clfDummy.predict(DummyX_train.values[:2,:]) \n",
    "\n",
    "    Accuracy = clfDummy.score(DummyX_train,Dummyy_train) #Returns the mean accuracy on the given test data and labels (should be 1.0)\n",
    "    #print first 10 predictions\n",
    "    #print(pred_train[0:10]) \n",
    "    return Accuracy"
   ]
  },
  {
   "cell_type": "code",
   "execution_count": 10,
   "metadata": {},
   "outputs": [
    {
     "name": "stdout",
     "output_type": "stream",
     "text": [
      "1.0\n"
     ]
    }
   ],
   "source": [
    "print(DummyTest(DummyX_train, Dummyy_train))\n"
   ]
  },
  {
   "cell_type": "code",
   "execution_count": 11,
   "metadata": {},
   "outputs": [],
   "source": [
    "#Predicting on Real DataSet - Returnds mean accuracy and CI @95%\n",
    "#Test with dummy \n",
    "logReg = LogisticRegression(penalty='l2', dual=False, tol=0.0001, C=1.0, fit_intercept=True, random_state=0, solver='liblinear')\n",
    "clf = logReg.fit(X_train, y_train)\n",
    "\n",
    "#predict on all rows=articles from row 2 onwards\n",
    "pred_train = clf.predict(X_train.values[:2,:]) \n",
    "pred_test = clf.predict(X_test.values[:2,:])"
   ]
  },
  {
   "cell_type": "code",
   "execution_count": 12,
   "metadata": {},
   "outputs": [
    {
     "name": "stdout",
     "output_type": "stream",
     "text": [
      "0.7163543441226575\n",
      "0.5535714285714286\n"
     ]
    }
   ],
   "source": [
    "#Without Dummy Variable\n",
    "TrainScores = clf.score(X_train,y_train)\n",
    "TestScores = clf.score(X_test,y_test)\n",
    "\n",
    "#Return the mean accuracy on the given test data and labels (should be 1.0)\n",
    "print(TrainScores)\n",
    "print(TestScores)"
   ]
  },
  {
   "cell_type": "code",
   "execution_count": 45,
   "metadata": {},
   "outputs": [],
   "source": [
    "def articleRanking(X):\n",
    "    ## Import Article Data\n",
    "    #input whatever filename contains article info. Right now, that file is sitting in the DataCollection Rep\n",
    "    file_name = 'retailarticles-18-11-06.xlsx'\n",
    "    thispath = Path().absolute()\n",
    "    ARTICLE_DIR = os.path.join(thispath.parent, \"DataCollection\", \"Scripts\", \"Data\", file_name)\n",
    "    arts = pd.read_excel(ARTICLE_DIR)\n",
    "    \n",
    "    probs = clf.predict_proba(X)\n",
    "    \n",
    "    probs_df = pd.DataFrame(probs)\n",
    "    probs_df = probs_df.drop([0], axis=1)\n",
    "    probs_df['title'] = pd.DataFrame(arts['title'])\n",
    "    probs_df['classification'] = clf.predict(X)\n",
    "\n",
    "    #probs_df.head()\n",
    "    probs_df = probs_df.sort_values(by=[1], ascending=False)\n",
    "    return probs_df"
   ]
  },
  {
   "cell_type": "code",
   "execution_count": 46,
   "metadata": {},
   "outputs": [
    {
     "data": {
      "text/html": [
       "<div>\n",
       "<style scoped>\n",
       "    .dataframe tbody tr th:only-of-type {\n",
       "        vertical-align: middle;\n",
       "    }\n",
       "\n",
       "    .dataframe tbody tr th {\n",
       "        vertical-align: top;\n",
       "    }\n",
       "\n",
       "    .dataframe thead th {\n",
       "        text-align: right;\n",
       "    }\n",
       "</style>\n",
       "<table border=\"1\" class=\"dataframe\">\n",
       "  <thead>\n",
       "    <tr style=\"text-align: right;\">\n",
       "      <th></th>\n",
       "      <th>1</th>\n",
       "      <th>title</th>\n",
       "      <th>classification</th>\n",
       "    </tr>\n",
       "  </thead>\n",
       "  <tbody>\n",
       "    <tr>\n",
       "      <th>1614</th>\n",
       "      <td>0.995848</td>\n",
       "      <td>Mall stocks rally on holiday sales optimism, a...</td>\n",
       "      <td>1</td>\n",
       "    </tr>\n",
       "    <tr>\n",
       "      <th>289</th>\n",
       "      <td>0.993670</td>\n",
       "      <td>Walgreens unveils rebranding effort as pharmac...</td>\n",
       "      <td>1</td>\n",
       "    </tr>\n",
       "    <tr>\n",
       "      <th>254</th>\n",
       "      <td>0.992801</td>\n",
       "      <td>Why Albertsons Is Buying a Big Chunk of Rite Aid</td>\n",
       "      <td>1</td>\n",
       "    </tr>\n",
       "    <tr>\n",
       "      <th>1120</th>\n",
       "      <td>0.991787</td>\n",
       "      <td>Amazon Is Defined by Billions and Millions; Me...</td>\n",
       "      <td>1</td>\n",
       "    </tr>\n",
       "    <tr>\n",
       "      <th>1603</th>\n",
       "      <td>0.991304</td>\n",
       "      <td>Walmart to acquire plus-size online retailer E...</td>\n",
       "      <td>1</td>\n",
       "    </tr>\n",
       "  </tbody>\n",
       "</table>\n",
       "</div>"
      ],
      "text/plain": [
       "             1                                              title  \\\n",
       "1614  0.995848  Mall stocks rally on holiday sales optimism, a...   \n",
       "289   0.993670  Walgreens unveils rebranding effort as pharmac...   \n",
       "254   0.992801   Why Albertsons Is Buying a Big Chunk of Rite Aid   \n",
       "1120  0.991787  Amazon Is Defined by Billions and Millions; Me...   \n",
       "1603  0.991304  Walmart to acquire plus-size online retailer E...   \n",
       "\n",
       "      classification  \n",
       "1614               1  \n",
       "289                1  \n",
       "254                1  \n",
       "1120               1  \n",
       "1603               1  "
      ]
     },
     "execution_count": 46,
     "metadata": {},
     "output_type": "execute_result"
    }
   ],
   "source": [
    "probs_df = articleRanking(X)\n",
    "probs_df.head()\n"
   ]
  },
  {
   "cell_type": "code",
   "execution_count": 18,
   "metadata": {},
   "outputs": [],
   "source": [
    "def random_mean_ci(X, y, num_tests):\n",
    "    # train_results is a list of train accuracy results for the differrent random splits of the dataset\n",
    "    train_results = []\n",
    "    \n",
    "    # test_results is a list of test accuracy results for the differrent random splits of the dataset\n",
    "    test_results = []\n",
    "    \n",
    "    # Write your code here\n",
    "    for i in range(num_tests):\n",
    "        X_train, X_test, y_train, y_test = train_test_split(X, y, test_size=0.3, random_state=random.randint(1,1000))\n",
    "\n",
    "        # train a logistic regression classifier\n",
    "        clf = LogisticRegression(C=1.0, penalty='l2', dual=False, tol=0.0001, fit_intercept=True, solver='liblinear').fit(X_train, y_train)\n",
    "\n",
    "        # predict on train and test set\n",
    "        y_train_predict = clf.predict(X_train)\n",
    "        y_test_predict = clf.predict(X_test)\n",
    "\n",
    "        # calculate train and test accuracy\n",
    "        train_accuracy = accuracy_score(y_train, y_train_predict)\n",
    "        test_accuracy = accuracy_score(y_test, y_test_predict)\n",
    "\n",
    "        # report results, update the results array\n",
    "        train_results.append(train_accuracy)\n",
    "        test_results.append(test_accuracy)\n",
    "\n",
    "    # calculate the train mean and the 95% confidence interval for the list of results\n",
    "    train_mean = np.mean(train_results)\n",
    "    train_ci_low, train_ci_high = stats.t.interval(0.95, len(train_results)-1, loc=train_mean, scale=stats.sem(train_results))\n",
    "\n",
    "    # calculate the test mean and the 95% confidence interval for the list of results\n",
    "    test_mean = np.mean(test_results)\n",
    "    test_ci_low, test_ci_high = stats.t.interval(0.95, len(test_results)-1, loc=test_mean, scale=stats.sem(test_results))\n",
    "    \n",
    "    # validate return types\n",
    "    assert isinstance(train_mean, float) and isinstance(train_ci_low, float) and isinstance(train_ci_high, float), \"return types\"\n",
    "    assert isinstance(test_mean, float) and isinstance(test_ci_low, float) and isinstance(test_ci_high, float), \"return types\"\n",
    "    \n",
    "    return train_mean, train_ci_low, train_ci_high, test_mean, test_ci_low, test_ci_high"
   ]
  },
  {
   "cell_type": "code",
   "execution_count": 19,
   "metadata": {},
   "outputs": [
    {
     "name": "stdout",
     "output_type": "stream",
     "text": [
      "Train mean accuracy over 10 random splits: 0.7402896081771722\n",
      "Train confidence interval over 10 random splits: [0.7288090750212393, 0.751770141333105]\n",
      "Test mean accuracy over 10 random splits: 0.5650793650793651\n",
      "Test confidence interval over 10 random splits: [0.547570102462968, 0.5825886276957621]\n"
     ]
    }
   ],
   "source": [
    "#Accuracy and CI over 10 runs\n",
    "train_mean, train_low, train_high, test_mean, test_low, test_high = random_mean_ci(X, y, num_tests = 10)\n",
    "print(\"Train mean accuracy over 10 random splits: {}\".format(train_mean))\n",
    "print(\"Train confidence interval over 10 random splits: [{}, {}]\".format(train_low, train_high))\n",
    "print(\"Test mean accuracy over 10 random splits: {}\".format(test_mean))\n",
    "print(\"Test confidence interval over 10 random splits: [{}, {}]\".format(test_low, test_high))"
   ]
  },
  {
   "cell_type": "markdown",
   "metadata": {},
   "source": [
    "An initial run with Retail only Articles, to determine marking moving or not: \n",
    "\n",
    "Train mean accuracy over 10 random splits: 0.7402896081771722\n",
    "Train confidence interval over 10 random splits: [0.7288090750212393, 0.751770141333105]\n",
    "Test mean accuracy over 10 random splits: 0.5650793650793651\n",
    "Test confidence interval over 10 random splits: [0.547570102462968, 0.5825886276957621]\n"
   ]
  },
  {
   "cell_type": "code",
   "execution_count": null,
   "metadata": {},
   "outputs": [],
   "source": []
  },
  {
   "cell_type": "code",
   "execution_count": null,
   "metadata": {},
   "outputs": [],
   "source": []
  }
 ],
 "metadata": {
  "kernelspec": {
   "display_name": "Python 3",
   "language": "python",
   "name": "python3"
  },
  "language_info": {
   "codemirror_mode": {
    "name": "ipython",
    "version": 3
   },
   "file_extension": ".py",
   "mimetype": "text/x-python",
   "name": "python",
   "nbconvert_exporter": "python",
   "pygments_lexer": "ipython3",
   "version": "3.6.6"
  }
 },
 "nbformat": 4,
 "nbformat_minor": 2
}
